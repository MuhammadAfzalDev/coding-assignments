{
 "cells": [
  {
   "cell_type": "code",
   "execution_count": 1,
   "metadata": {},
   "outputs": [
    {
     "name": "stdout",
     "output_type": "stream",
     "text": [
      "String: how are you\n",
      "Integer: 2\n",
      "Float: 3.5\n",
      "Boolean: True\n",
      "Uppercase String: HOW ARE YOU\n",
      "The number 2 is Even\n",
      "Doubled float: 7.0\n"
     ]
    }
   ],
   "source": [
    "# Question 1: Variables and Data Types\n",
    "\n",
    "# Accept inputs from the user\n",
    "string_input = input(\"Enter a string: \")\n",
    "integer_input = int(input(\"Enter an integer: \"))\n",
    "float_input = float(input(\"Enter a float: \"))\n",
    "boolean_input = input(\"Enter a boolean (True/False): \").strip().capitalize() == \"True\"\n",
    "\n",
    "# Print the values\n",
    "print(f\"String: {string_input}\")\n",
    "print(f\"Integer: {integer_input}\")\n",
    "print(f\"Float: {float_input}\")\n",
    "print(f\"Boolean: {boolean_input}\")\n",
    "\n",
    "# Convert string to uppercase\n",
    "print(f\"Uppercase String: {string_input.upper()}\")\n",
    "\n",
    "# Check if integer is even or odd\n",
    "if integer_input % 2 == 0:\n",
    "    print(f\"The number {integer_input} is Even\")\n",
    "else:\n",
    "    print(f\"The number {integer_input} is Odd\")\n",
    "\n",
    "# Multiply the float by 2\n",
    "print(f\"Doubled float: {float_input * 2}\")\n"
   ]
  },
  {
   "cell_type": "code",
   "execution_count": 2,
   "metadata": {},
   "outputs": [
    {
     "name": "stdout",
     "output_type": "stream",
     "text": [
      "Addition: 40.0\n",
      "Subtraction: -10.0\n",
      "Multiplication: 375.0\n",
      "Division: 0.6\n",
      "Modulus: 15.0\n",
      "Flow Division: 0.0\n",
      "First number is greater than second: False\n",
      "First number is equal to second: False\n",
      "Both conditions are true: False\n"
     ]
    }
   ],
   "source": [
    "# Question 2: Operators\n",
    "\n",
    "# Accept two numbers from the user\n",
    "num1 = float(input(\"Enter the first number: \"))\n",
    "num2 = float(input(\"Enter the second number: \"))\n",
    "\n",
    "# Perform and print the result of all arithmetic operations\n",
    "print(f\"Addition: {num1 + num2}\")\n",
    "print(f\"Subtraction: {num1 - num2}\")\n",
    "print(f\"Multiplication: {num1 * num2}\")\n",
    "print(f\"Division: {num1 / num2}\")\n",
    "print(f\"Modulus: {num1 % num2}\")\n",
    "print(f\"Flow Division: {num1 // num2}\")\n",
    "\n",
    "# Comparison operators\n",
    "print(f\"First number is greater than second: {num1 > num2}\")\n",
    "print(f\"First number is equal to second: {num1 == num2}\")\n",
    "\n",
    "# Logical operators\n",
    "print(f\"Both conditions are true: {num1 > num2 and num2 < 10}\")\n"
   ]
  },
  {
   "cell_type": "code",
   "execution_count": 3,
   "metadata": {},
   "outputs": [
    {
     "name": "stdout",
     "output_type": "stream",
     "text": [
      "5\n",
      "5\n",
      "6\n",
      "8\n",
      "4\n",
      "6\n",
      "8\n",
      "7\n",
      "9\n",
      "Loop ended naturally\n"
     ]
    }
   ],
   "source": [
    "# Question 3: Loops\n",
    "\n",
    "# Accept a list of integers from the user\n",
    "input_list = list(map(int, input(\"Enter a list of numbers separated by spaces: \").split()))\n",
    "\n",
    "# Loop through the list and print each number\n",
    "for num in input_list:\n",
    "    print(num)\n",
    "    \n",
    "    # Skip the number if it is greater than 10\n",
    "    if num > 10:\n",
    "        print(f\"Skipping {num}\")\n",
    "        continue\n",
    "    \n",
    "    # Break the loop if the number is 20\n",
    "    if num == 20:\n",
    "        print(\"Breaking at 20\")\n",
    "        break\n",
    "\n",
    "# After the loop ends\n",
    "print(\"Loop ended naturally\")\n"
   ]
  }
 ],
 "metadata": {
  "kernelspec": {
   "display_name": "myenv",
   "language": "python",
   "name": "python3"
  },
  "language_info": {
   "codemirror_mode": {
    "name": "ipython",
    "version": 3
   },
   "file_extension": ".py",
   "mimetype": "text/x-python",
   "name": "python",
   "nbconvert_exporter": "python",
   "pygments_lexer": "ipython3",
   "version": "3.12.0"
  }
 },
 "nbformat": 4,
 "nbformat_minor": 2
}

{
 "cells": [
  {
   "cell_type": "code",
   "execution_count": 3,
   "metadata": {},
   "outputs": [
    {
     "name": "stdout",
     "output_type": "stream",
     "text": [
      "Reversed string: ?ris uoy era woh\n",
      "Number of vowels: 6\n"
     ]
    }
   ],
   "source": [
    "# Question 1: Code Along\n",
    "\n",
    "# Function to reverse the string and count vowels\n",
    "def reverse_and_count_vowels(input_string):\n",
    "    vowels = \"aeiouAEIOU\"  # List of vowels\n",
    "    reversed_string = input_string[::-1]  # Reverse the string\n",
    "    vowel_count = 0\n",
    "    \n",
    "    # Loop through the string and count vowels\n",
    "    for char in input_string:\n",
    "        if char in vowels:\n",
    "            vowel_count += 1\n",
    "    \n",
    "    return reversed_string, vowel_count\n",
    "\n",
    "# Input from the user\n",
    "input_string = input(\"Enter a string: \")\n",
    "\n",
    "# Get the reversed string and number of vowels\n",
    "reversed_string, vowel_count = reverse_and_count_vowels(input_string)\n",
    "\n",
    "# Output the results\n",
    "print(\"Reversed string:\", reversed_string)\n",
    "print(\"Number of vowels:\", vowel_count)\n"
   ]
  },
  {
   "cell_type": "code",
   "execution_count": 6,
   "metadata": {},
   "outputs": [
    {
     "name": "stdout",
     "output_type": "stream",
     "text": [
      "The number 26 is Even.\n"
     ]
    }
   ],
   "source": [
    "# Question 2: Hands-on Coding Project\n",
    "\n",
    "# Function to check if a number is even or odd\n",
    "def check_even_odd(number):\n",
    "    if number % 2 == 0:\n",
    "        return f'The number {number} is Even.'\n",
    "    else:\n",
    "        return f'The number {number} is Odd.'\n",
    "\n",
    "# Input from the user\n",
    "number = int(input('Enter a number: '))\n",
    "\n",
    "# Check and display the result\n",
    "print(check_even_odd(number))"
   ]
  },
  {
   "cell_type": "code",
   "execution_count": 12,
   "metadata": {},
   "outputs": [
    {
     "name": "stdout",
     "output_type": "stream",
     "text": [
      "Step 1: Create a virtual environment named 'sortenv'.\n",
      "Step 2: Install numpy in the virtual environment.\n",
      "Step 3: Use numpy to sort the list.\n",
      "Sorted list: [1 2 3 4 5 6]\n"
     ]
    }
   ],
   "source": [
    "\n",
    "# Question 3: Virtual Environment Application\n",
    "\n",
    "# Function to simulate creating a virtual environment\n",
    "def simulate_virtual_environment():\n",
    "    print(\"Step 1: Create a virtual environment named 'sortenv'.\")\n",
    "    print(\"Step 2: Install numpy in the virtual environment.\")\n",
    "    print(\"Step 3: Use numpy to sort the list.\")\n",
    "\n",
    "# Function to sort the list using numpy\n",
    "try:\n",
    "    import numpy as np\n",
    "\n",
    "    def sort_list(input_list):\n",
    "        # Use numpy's sort method to sort the list\n",
    "        return np.sort(input_list)\n",
    "\n",
    "except ImportError:\n",
    "    print(\"Numpy is not installed in the current environment.\")\n",
    "\n",
    "# Input from the user\n",
    "input_list = input(\"Enter a list of numbers (separated by spaces): \").split()\n",
    "\n",
    "# Convert input to a list of integers\n",
    "input_list = [int(num) for num in input_list]\n",
    "\n",
    "# Simulate virtual environment steps\n",
    "simulate_virtual_environment()\n",
    "\n",
    "# Sort the list using numpy\n",
    "try:\n",
    "    sorted_list = sort_list(input_list)\n",
    "    print(\"Sorted list:\", sorted_list)\n",
    "except NameError:\n",
    "    print(\"Numpy was not imported successfully, so sorting cannot be performed.\")\n"
   ]
  }
 ],
 "metadata": {
  "kernelspec": {
   "display_name": "myenv",
   "language": "python",
   "name": "python3"
  },
  "language_info": {
   "codemirror_mode": {
    "name": "ipython",
    "version": 3
   },
   "file_extension": ".py",
   "mimetype": "text/x-python",
   "name": "python",
   "nbconvert_exporter": "python",
   "pygments_lexer": "ipython3",
   "version": "3.12.0"
  }
 },
 "nbformat": 4,
 "nbformat_minor": 2
}
